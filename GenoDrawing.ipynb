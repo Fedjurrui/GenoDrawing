{
 "cells": [
  {
   "cell_type": "code",
   "execution_count": 1,
   "metadata": {
    "collapsed": false
   },
   "outputs": [
    {
     "name": "stdout",
     "output_type": "stream",
     "text": [
      "cpu\n"
     ]
    },
    {
     "name": "stderr",
     "output_type": "stream",
     "text": [
      "/home/carles/miniconda3/envs/genodrawtest/lib/python3.9/site-packages/torch/cuda/__init__.py:88: UserWarning: HIP initialization: Unexpected error from hipGetDeviceCount(). Did you run some cuda functions before calling NumHipDevices() that might have already set an error? Error 101: hipErrorInvalidDevice (Triggered internally at ../c10/hip/HIPFunctions.cpp:110.)\n",
      "  return torch._C._cuda_getDeviceCount() > 0\n"
     ]
    }
   ],
   "source": [
    "import os\n",
    "import pandas as pd\n",
    "import pandas_plink as pl\n",
    "import torch\n",
    "from PIL import Image, ImageDraw, ImageFont\n",
    "from torchvision.transforms.functional import to_pil_image\n",
    "from GenoDrawingLib.models import Encoder,Decoder,Embedding_predictor\n",
    "from GenoDrawingLib.dataset import snps_to_embd_dataset\n",
    "\n",
    "\n",
    "device = torch.device(\"cuda\") if torch.cuda.is_available() else torch.device(\"cpu\")\n",
    "print(device)"
   ]
  },
  {
   "cell_type": "code",
   "execution_count": 2,
   "metadata": {
    "collapsed": false
   },
   "outputs": [
    {
     "name": "stderr",
     "output_type": "stream",
     "text": [
      "Mapping files: 100%|██████████| 3/3 [00:00<00:00,  8.73it/s]\n"
     ]
    }
   ],
   "source": [
    "sn = pl.read_plink1_bin(bed=\"Snp_data/SNPs_dataset.bed\",\n",
    "                        bim=\"Snp_data/SNPs_dataset.bim\",\n",
    "                        fam=\"Snp_data/SNPs_dataset.fam\")\n",
    "sn[\"variant\"] = sn[\"snp\"]\n",
    "snp_list = pd.read_csv(\"Snp_data/Final_list_snps.csv\", header=None)[0].tolist()\n",
    "snps_df = pd.DataFrame(sn.loc[:, snp_list].values,\n",
    "                       index=[e.lower() for e in sn.loc[:, snp_list].sample.values.tolist()])\n",
    "snp_list_random = pd.read_csv(\"Snp_data/list_random.csv\", header=None)[0].tolist()\n",
    "snps_df_random = pd.DataFrame(sn.loc[:, snp_list_random].values,\n",
    "                       index=[e.lower() for e in sn.loc[:, snp_list_random].sample.values.tolist()])"
   ]
  },
  {
   "cell_type": "code",
   "execution_count": null,
   "metadata": {
    "collapsed": false
   },
   "outputs": [],
   "source": [
    "dims = 64\n",
    "encoder = Encoder(dims = dims)\n",
    "encoder.load_state_dict(torch.load(\"AE_model/64_encoders_35_epochs/model_data_7_2_2023_15h/encoder_7_2_2023_15h.h5\", map_location=device))\n",
    "decoder = Decoder(dims = dims)\n",
    "decoder.load_state_dict(torch.load(\"AE_model/64_encoders_35_epochs/model_data_7_2_2023_15h/decoder_7_2_2023_15h.h5\", map_location=device))\n",
    "embedding_predictor_targeted = Embedding_predictor(dims=dims,n_snps=150)\n",
    "embedding_predictor_targeted.load_state_dict(torch.load(\"Embedding_predictors/Embedding_targeted/model_data_9_2_2023_15h/embedding_predictor_9_2_2023_15h.h5\", map_location=device))\n",
    "embedding_predictor_random = Embedding_predictor(dims=dims,n_snps=150)\n",
    "embedding_predictor_random.load_state_dict(torch.load(\"Embedding_predictors/Embedding_random/model_data_150_snps_iter_1/150_snps.h5\", map_location=device))\n",
    "encoder.eval()\n",
    "decoder.eval()\n",
    "embedding_predictor_targeted.eval()\n",
    "embedding_predictor_random.eval()"
   ]
  },
  {
   "cell_type": "code",
   "execution_count": 4,
   "metadata": {
    "collapsed": false
   },
   "outputs": [
    {
     "data": {
      "application/vnd.jupyter.widget-view+json": {
       "model_id": "49c8d0bc500247eebb94acc48fac366a",
       "version_major": 2,
       "version_minor": 0
      },
      "text/plain": [
       "  0%|          | 0/3 [00:00<?, ?it/s]"
      ]
     },
     "metadata": {},
     "output_type": "display_data"
    },
    {
     "data": {
      "application/vnd.jupyter.widget-view+json": {
       "model_id": "0ef212ea141e46409aafe9ba472abeca",
       "version_major": 2,
       "version_minor": 0
      },
      "text/plain": [
       "  0%|          | 0/3 [00:00<?, ?it/s]"
      ]
     },
     "metadata": {},
     "output_type": "display_data"
    }
   ],
   "source": [
    "folders = [os.path.join(\"Example_images\",e) for e in os.listdir(\"Example_images\")]\n",
    "test_random = snps_to_embd_dataset(folders,snps_df_random,encoder,decoder,device)\n",
    "test_targeted = snps_to_embd_dataset(folders,snps_df,encoder,decoder,device)"
   ]
  },
  {
   "cell_type": "code",
   "execution_count": 5,
   "metadata": {},
   "outputs": [],
   "source": [
    "example_images = [Image.open(os.path.join(e,os.listdir(e)[0])) for e in folders]\n",
    "ground_truth_images = [to_pil_image(e[0]) for e in test_random]\n",
    "images_targeted = []\n",
    "images_random = []\n",
    "embedding_predictor_targeted.to(device)\n",
    "embedding_predictor_random.to(device)\n",
    "decoder.to(device)\n",
    "for e in range(3):\n",
    "    snp_targeted = torch.reshape(torch.tensor(test_targeted[e][1]),shape=(1,150))\n",
    "    snp_random = torch.reshape(torch.tensor(test_random[e][1]),shape=(1,150))\n",
    "    if torch.cuda.is_available():\n",
    "        prediction_targeted = embedding_predictor_targeted(snp_targeted.to(device)).detach().cpu()\n",
    "        prediction_random = embedding_predictor_random(snp_random.to(device)).detach().cpu()\n",
    "        decoded_image_targeted = decoder(prediction_targeted.to(device)).detach().cpu()\n",
    "        decoded_image_random = decoder(prediction_random.to(device)).detach().cpu()\n",
    "        images_targeted.append(to_pil_image(decoded_image_targeted[0]))\n",
    "        images_random.append(to_pil_image(decoded_image_random[0]))\n",
    "    else:\n",
    "        prediction_targeted = embedding_predictor_targeted(snp_targeted).detach()\n",
    "        prediction_random = embedding_predictor_random(snp_random).detach()\n",
    "        decoded_image_targeted = decoder(torch.from_numpy(prediction_targeted)).detach()\n",
    "        decoded_image_random = decoder(torch.from_numpy(prediction_random)).detach()\n",
    "        images_targeted.append(to_pil_image(decoded_image_targeted[0]))\n",
    "        images_random.append(to_pil_image(decoded_image_random[0]))\n",
    "\n",
    "del embedding_predictor_random\n",
    "del embedding_predictor_targeted\n",
    "torch.cuda.empty_cache()"
   ]
  },
  {
   "cell_type": "code",
   "execution_count": 6,
   "metadata": {},
   "outputs": [],
   "source": [
    "images_final = []\n",
    "for i in range(3):\n",
    "    images_final.append(example_images[i])\n",
    "    images_final.append(ground_truth_images[i])\n",
    "    images_final.append(images_targeted[i])\n",
    "    images_final.append(images_random[i])"
   ]
  },
  {
   "cell_type": "code",
   "execution_count": 10,
   "metadata": {},
   "outputs": [],
   "source": [
    "composition = Image.new(\"RGB\", (images_final[0].width*4, images_final[0].height*3))\n",
    "for i in range(3):\n",
    "    for j in range(4):\n",
    "        composition.paste(images_final[i*4+j], (images_final[i*4+j].width*j, images_final[i*4+j].height*i))\n",
    "draw = ImageDraw.Draw(composition)\n",
    "try:\n",
    "    font = ImageFont.truetype(\"arial.ttf\", 20)\n",
    "    draw.text((75, 0), \"Example images\", font=font)\n",
    "    draw.text((355, 0), \"Mean decoded images\", font=font)\n",
    "    draw.text((675, 0), \"Targeted version\", font=font)\n",
    "    draw.text((975, 0), \"Random version\", font=font)\n",
    "    composition.save(\"Figures/GenoDrawing_examples.png\")\n",
    "    composition\n",
    "except:\n",
    "    draw.text((75, 0), \"Example images\")\n",
    "    draw.text((355, 0), \"Mean decoded images\")\n",
    "    draw.text((675, 0), \"Targeted version\")\n",
    "    draw.text((975, 0), \"Random version\")\n",
    "    composition.save(\"Figures/GenoDrawing_examples.png\")\n",
    "    composition "
   ]
  }
 ],
 "metadata": {
  "kernelspec": {
   "display_name": "ShapeAnalyzer",
   "language": "python",
   "name": "python3"
  },
  "language_info": {
   "codemirror_mode": {
    "name": "ipython",
    "version": 3
   },
   "file_extension": ".py",
   "mimetype": "text/x-python",
   "name": "python",
   "nbconvert_exporter": "python",
   "pygments_lexer": "ipython3",
   "version": "3.9.18"
  },
  "vscode": {
   "interpreter": {
    "hash": "9f18060efbe6b15af23d7f8dd87ec09b3e114d33edcc20378eb66e1b77174667"
   }
  }
 },
 "nbformat": 4,
 "nbformat_minor": 0
}
